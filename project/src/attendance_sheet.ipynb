{
 "cells": [
  {
   "cell_type": "code",
   "id": "initial_id",
   "metadata": {
    "collapsed": true,
    "ExecuteTime": {
     "end_time": "2024-11-07T11:31:12.419521Z",
     "start_time": "2024-11-07T11:31:11.689002Z"
    }
   },
   "source": "import pandas as pd",
   "outputs": [],
   "execution_count": 1
  },
  {
   "metadata": {
    "ExecuteTime": {
     "end_time": "2024-11-07T11:31:12.428883Z",
     "start_time": "2024-11-07T11:31:12.423718Z"
    }
   },
   "cell_type": "code",
   "source": [
    "student_name = [\n",
    "    \"김예진\", \"김한얼\", \"배서영\", \"서지현\", \"손수연\", \"송다은\", \n",
    "    \"원현석\", \"유영서\", \"이윤서\", \"이찬재\", \"이창민\", \"임현희\", \n",
    "    \"주시언\", \"최현석\", \"황성진\"\n",
    "]\n",
    "\n",
    "attendance_status= [\"결석\"] * len(student_name)\n",
    "\n",
    "attendance_sheet = pd.DataFrame({\n",
    "    \"Name\": student_name,\n",
    "    \"Attendance Status\": attendance_status\n",
    "})"
   ],
   "id": "5cbd747d16a1f227",
   "outputs": [],
   "execution_count": 2
  },
  {
   "metadata": {
    "ExecuteTime": {
     "end_time": "2024-11-07T11:31:12.536819Z",
     "start_time": "2024-11-07T11:31:12.530783Z"
    }
   },
   "cell_type": "code",
   "source": "attendance_sheet.loc[attendance_sheet['Name'].isin(['김예진', '임현희', '주시언', '황성진']), 'Attendance Status'] = '출석'",
   "id": "84abadb0ffaca7a2",
   "outputs": [],
   "execution_count": 3
  },
  {
   "metadata": {
    "ExecuteTime": {
     "end_time": "2024-11-07T11:31:12.579506Z",
     "start_time": "2024-11-07T11:31:12.565804Z"
    }
   },
   "cell_type": "code",
   "source": "attendance_sheet[attendance_sheet['Attendance Status'] == '출석']",
   "id": "4b314972770cc4f2",
   "outputs": [
    {
     "data": {
      "text/plain": [
       "   Name Attendance Status\n",
       "0   김예진                출석\n",
       "11  임현희                출석\n",
       "12  주시언                출석\n",
       "14  황성진                출석"
      ],
      "text/html": [
       "<div>\n",
       "<style scoped>\n",
       "    .dataframe tbody tr th:only-of-type {\n",
       "        vertical-align: middle;\n",
       "    }\n",
       "\n",
       "    .dataframe tbody tr th {\n",
       "        vertical-align: top;\n",
       "    }\n",
       "\n",
       "    .dataframe thead th {\n",
       "        text-align: right;\n",
       "    }\n",
       "</style>\n",
       "<table border=\"1\" class=\"dataframe\">\n",
       "  <thead>\n",
       "    <tr style=\"text-align: right;\">\n",
       "      <th></th>\n",
       "      <th>Name</th>\n",
       "      <th>Attendance Status</th>\n",
       "    </tr>\n",
       "  </thead>\n",
       "  <tbody>\n",
       "    <tr>\n",
       "      <th>0</th>\n",
       "      <td>김예진</td>\n",
       "      <td>출석</td>\n",
       "    </tr>\n",
       "    <tr>\n",
       "      <th>11</th>\n",
       "      <td>임현희</td>\n",
       "      <td>출석</td>\n",
       "    </tr>\n",
       "    <tr>\n",
       "      <th>12</th>\n",
       "      <td>주시언</td>\n",
       "      <td>출석</td>\n",
       "    </tr>\n",
       "    <tr>\n",
       "      <th>14</th>\n",
       "      <td>황성진</td>\n",
       "      <td>출석</td>\n",
       "    </tr>\n",
       "  </tbody>\n",
       "</table>\n",
       "</div>"
      ]
     },
     "execution_count": 4,
     "metadata": {},
     "output_type": "execute_result"
    }
   ],
   "execution_count": 4
  },
  {
   "metadata": {
    "ExecuteTime": {
     "end_time": "2024-11-07T11:31:40.465326Z",
     "start_time": "2024-11-07T11:31:40.458068Z"
    }
   },
   "cell_type": "code",
   "source": "attendance_sheet.loc[attendance_sheet['Name'] == '배서영', 'Attendance Status'] = '출석'",
   "id": "3bae4d3a19598b2e",
   "outputs": [],
   "execution_count": 5
  },
  {
   "metadata": {
    "ExecuteTime": {
     "end_time": "2024-11-07T11:31:42.633529Z",
     "start_time": "2024-11-07T11:31:42.623802Z"
    }
   },
   "cell_type": "code",
   "source": [
    "# 수정되었는지 확인 \n",
    "attendance_sheet[attendance_sheet['Name'] == '배서영']"
   ],
   "id": "1dc73d5a0bf84b57",
   "outputs": [
    {
     "data": {
      "text/plain": [
       "  Name Attendance Status\n",
       "2  배서영                출석"
      ],
      "text/html": [
       "<div>\n",
       "<style scoped>\n",
       "    .dataframe tbody tr th:only-of-type {\n",
       "        vertical-align: middle;\n",
       "    }\n",
       "\n",
       "    .dataframe tbody tr th {\n",
       "        vertical-align: top;\n",
       "    }\n",
       "\n",
       "    .dataframe thead th {\n",
       "        text-align: right;\n",
       "    }\n",
       "</style>\n",
       "<table border=\"1\" class=\"dataframe\">\n",
       "  <thead>\n",
       "    <tr style=\"text-align: right;\">\n",
       "      <th></th>\n",
       "      <th>Name</th>\n",
       "      <th>Attendance Status</th>\n",
       "    </tr>\n",
       "  </thead>\n",
       "  <tbody>\n",
       "    <tr>\n",
       "      <th>2</th>\n",
       "      <td>배서영</td>\n",
       "      <td>출석</td>\n",
       "    </tr>\n",
       "  </tbody>\n",
       "</table>\n",
       "</div>"
      ]
     },
     "execution_count": 6,
     "metadata": {},
     "output_type": "execute_result"
    }
   ],
   "execution_count": 6
  },
  {
   "metadata": {},
   "cell_type": "code",
   "outputs": [],
   "execution_count": null,
   "source": "",
   "id": "490bc68b76cf385"
  }
 ],
 "metadata": {
  "kernelspec": {
   "display_name": "Python 3",
   "language": "python",
   "name": "python3"
  },
  "language_info": {
   "codemirror_mode": {
    "name": "ipython",
    "version": 2
   },
   "file_extension": ".py",
   "mimetype": "text/x-python",
   "name": "python",
   "nbconvert_exporter": "python",
   "pygments_lexer": "ipython2",
   "version": "2.7.6"
  }
 },
 "nbformat": 4,
 "nbformat_minor": 5
}
